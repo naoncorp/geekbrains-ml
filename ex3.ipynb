{
 "cells": [
  {
   "cell_type": "markdown",
   "metadata": {},
   "source": [
    "# Тема \"Пределы функции\"\n",
    "**1. Предложить пример функции, не имеющей предела в нуле и в бесконечностях.**\n",
    "\n",
    "Не совсем понял данное задание: \n",
    "\n",
    "нашел только функцию Дирихле, которая не имеет предела ни в какой точке числовой прямой.\n",
    "\n",
    "$ \\forall x_0 \\in R \\nexists \\lim_{x \\to x_0} D(x) $\n",
    "\n",
    "**2. Привести пример функции, не имеющей предела в точке, но определенной в ней.**\n",
    "\n",
    "Не совсем понял даное задание:\n",
    "\n",
    "Нашел только, что функцию, которая не имеет предела на бесконечности\n",
    "\n",
    "$ \\nexists \\lim_{x \\to \\infty} arctg(x) $\n",
    "\n",
    "\n",
    "**3. Исследовать функцию $ f(x) = x^3 - x^2 $ по плану:**\n",
    "\n",
    " - Область задания и область значений.\n",
    " - Нули функции и их кратность.\n",
    " - Отрезки знакопостоянства.\n",
    " - Интервалы монотонности.\n",
    " - Четность функции.\n",
    " - Ограниченность.\n",
    " - Периодичность."
   ]
  },
  {
   "cell_type": "markdown",
   "metadata": {},
   "source": [
    "## Ответы:\n",
    "\n",
    "**Построим график функции**"
   ]
  },
  {
   "cell_type": "code",
   "execution_count": 35,
   "metadata": {},
   "outputs": [
    {
     "name": "stdout",
     "output_type": "stream",
     "text": [
      "[-1100, -810, -576, -392, -252, -150, -80, -36, -12, -2, 0, 0, 4, 18, 48, 100, 180, 294, 448, 648]\n"
     ]
    },
    {
     "data": {
      "image/png": "[encoded data removed]",
      "text/plain": [
       "<Figure size 432x288 with 1 Axes>"
      ]
     },
     "metadata": {
      "needs_background": "light"
     },
     "output_type": "display_data"
    }
   ],
   "source": [
    "x = range(-10, 10)\n",
    "y = []\n",
    "for i in x:\n",
    "    y.append(i**3-i**2)\n",
    "\n",
    "print(y)\n",
    "\n",
    "import matplotlib\n",
    "import matplotlib.pyplot as plt\n",
    "import numpy as np\n",
    "\n",
    "fig, ax = plt.subplots()\n",
    "ax.plot(x, y)\n",
    "\n",
    "ax.set(xlabel='x', ylabel='x^3 - x^2',\n",
    "       title='f(x)')\n",
    "ax.grid()\n",
    "plt.show()"
   ]
  },
  {
   "cell_type": "markdown",
   "metadata": {},
   "source": [
    "**Область задания и область значений**\n",
    "\n",
    "Область определения: $ (-\\infty, \\infty), \\{x|x \\in R\\} $\n",
    "\n",
    "Область значений: $ (-\\infty, \\infty), \\{y|y \\in R\\} $\n",
    "\n",
    "**Нули функции и их кратность**\n",
    "\n",
    "График пересекает ось Y, когда х = 0\n",
    "\n",
    "$ 0^3 - 0^2 $ \n",
    "\n",
    "$ f(0) = 0$\n",
    "\n",
    "График функции пересекает ось Х при f = 0\n",
    "\n",
    "$ x^3 - x^2 = 0 $\n",
    "\n",
    "$ x(x^2 - x) = 0; x_1 = 0 $ \n",
    "\n",
    "$ x^2 - x = 0 $\n",
    "\n",
    "$ a=1, b=-1, c=0 $\n",
    "\n",
    "$ D = b^2-4ac = (-1)^2-4*1*0 = 1 $ \n",
    "\n",
    "$ x_2 = \\frac{(-b + \\sqrt{D})}{2a} = 1 $\n",
    "\n",
    "$ x_3 = \\frac{(-b - \\sqrt{D})}{2a} = 0 $\n",
    "\n",
    "Кратность корня – это количество раз, которое корень встречается.\n",
    "\n",
    "Итого:\n",
    "\n",
    "$ x_1 = 0 $ (Кратность 2) \n",
    "\n",
    "$ x_2 = 1 $ (Кратность 1)\n",
    "\n",
    "**Отрезки знакопостоянства**\n",
    "\n",
    "$ f(x) < 0 x \\in (-\\infty,0) $\n",
    "\n",
    "$ f(x) > 0 x \\in (1,\\infty) $\n",
    "\n",
    "**Интервалы монотонности**\n",
    "\n",
    "$ \\frac{d}{dx} f(x) = 0 $\n",
    "\n",
    "$ 3x^2 - 2x = 0 $\n",
    "\n",
    "$ x_1 = 0, x_2 = \\frac{2}{3} $\n",
    "\n",
    "Убывает на промежутках:\n",
    "\n",
    "$ (-\\infty,0] \\cup [\\frac{2}{3},\\infty) $\n",
    "\n",
    "Возрастает на промежутках:\n",
    "\n",
    "$ [0, \\frac{2}{3}] $\n",
    "\n",
    "**Четность функции:**\n",
    "\n",
    "Проверим с помощью соотношений: $ f = f(-x) $ и $ f = -f(-x) $\n",
    "\n",
    "$ x^3 - x^2 \\neq -x^3 - x^2 $\n",
    "\n",
    "$ x^3 - x^2 \\neq x^3 + x^2 $\n",
    "\n",
    "Ответ: Функция не является ни четной ни нечетной\n",
    "\n",
    "**Ограниченность:**\n",
    "\n",
    "Ответ: Согласно графику функция неограничена.\n",
    "\n",
    "**Периодичность**\n",
    "\n",
    "Согласно графику, периодичность функции отсутствует"
   ]
  },
  {
   "cell_type": "markdown",
   "metadata": {},
   "source": [
    "4. Найти предел:\n",
    "\n",
    "$ \\LARGE{\\lim_{x\\to0} (\\frac{3x^3-2x^2}{4x^2}) = \\lim_{x\\to0} (\\frac{x^2(3x-2)}{4x^2}) = \\lim_{x\\to0} (\\frac{3x}{4} - \\frac{1}{2}) = -\\frac{1}{2} + \\frac{0*3}{4} = -\\frac{1}{2}} $\n",
    "\n",
    "___\n",
    "\n",
    "$ \\LARGE{ * \\lim_{x\\to0} (\\frac{\\sqrt{1+x}-1}{\\sqrt[3]{1+x}-1}) = \\lim_{x\\to0} \\frac{x(\\frac{\\sqrt{x+1}}{x} - \\frac{1}{x})}{x(\\frac{\\sqrt[3]{x+1}}{x} - \\frac{1}{x})} = \\lim_{x\\to0} \\frac{\\frac{\\sqrt{x+1}}{x} - \\frac{1}{x}}{\\frac{\\sqrt[3]{x+1}}{x} - \\frac{1}{x}} = \\lim_{x\\to0} \\frac{\\frac{1}{2}}{\\frac{1}{3}} = \\frac{3}{2} } $\n",
    "\n",
    "___"
   ]
  },
  {
   "cell_type": "markdown",
   "metadata": {},
   "source": [
    "# Тема \"Теоремы о пределах\"\n",
    "\n",
    "\n",
    "$ \\LARGE{ \\lim_{x\\to0} \\frac{sin(2x)}{4x} = \\lim_{x\\to0} \\frac{sin(u)}{2u} = \\frac{\\lim_{x\\to0} \\frac{sin(u)}{u}}{2} = \\frac{1}{2} } $ \n",
    "\n",
    "P.S. Сделали замену u = 2x. Первый замечательный предел в числителе.\n",
    "\n",
    "___\n",
    "\n",
    "$ \\LARGE{ \\lim_{x\\to0} \\frac{x}{sin(x)} = \\lim_{x\\to0} \\frac{u}{sin(u)} = (\\lim_{x\\to0} \\frac{sin(u)}{u})^{-1} = 1 } $\n",
    "\n",
    "___\n",
    "\n",
    "$ \\LARGE{ \\lim_{x\\to0} \\frac{x}{arcsin(x)} = \\lim_{x\\to0} \\frac{u}{arcsin(u)} = (\\lim_{x\\to0} \\frac{arcsin(u)}{u})^{-1} = 1 } $"
   ]
  }
 ],
 "metadata": {
  "kernelspec": {
   "display_name": "Python 3",
   "language": "python",
   "name": "python3"
  },
  "language_info": {
   "codemirror_mode": {
    "name": "ipython",
    "version": 3
   },
   "file_extension": ".py",
   "mimetype": "text/x-python",
   "name": "python",
   "nbconvert_exporter": "python",
   "pygments_lexer": "ipython3",
   "version": "3.8.3"
  }
 },
 "nbformat": 4,
 "nbformat_minor": 4
}
