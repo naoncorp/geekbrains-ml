{
 "cells": [
  {
   "cell_type": "markdown",
   "metadata": {},
   "source": [
    "## Домашнее задание по теме «Производные функций нескольких переменных».\n",
    "\n",
    "**1. Найти область определения функции**\n",
    "\n",
    "$ \\large{ \\sqrt{1- x^3} + ln(y^2-1) } $\n",
    "\n",
    "$ \\large{ (y > 1; x <= 1) || (y <-1; x<=1) } $"
   ]
  },
  {
   "cell_type": "markdown",
   "metadata": {},
   "source": [
    "**2. Найти производные 1-го порядка функции**\n",
    "\n",
    "$ \\large{ z = (1+\\frac{ln(x)}{ln(y)})^3 } $\n",
    "\n",
    "$ \\large{ \\frac{d}{dx}f(x,y)= \\frac{3(\\frac{ln(x)}{ln(y)}+1)^2}{x*ln(y)} }$\n",
    "\n",
    "$ \\large{ \\frac{d}{dy}f(x,y)= \\frac{3(\\frac{ln(x)}{ln(y)}+1)^2*ln(x)}{y*ln(y)^2} }$\n",
    "\n",
    "$ \\large{ \\frac{dy}{dx} = y* \\frac{ln(y)}{x*ln(x)} } $"
   ]
  },
  {
   "cell_type": "markdown",
   "metadata": {},
   "source": [
    "**3.       Найти полный дифференциал функции в точке (1;1)**"
   ]
  },
  {
   "cell_type": "markdown",
   "metadata": {},
   "source": [
    "$ \\large{ \\sqrt{2xy+cos\\frac{x}{y}} } $\n",
    "\n",
    "$ \\large { (\\frac{y-\\frac{sin(\\frac{x}{y})}{2y}}{\\sqrt{2xy+cos(\\frac{x}{y})}})dx + (\\frac{x+\\frac{xsin(\\frac{x}{y})}{2y^2}}{\\sqrt{2xy+cos(\\frac{x}{y})}})dy } $\n",
    "\n",
    "$ \\large { dz(1;1) = (\\frac{2-sin(1)}{2\\sqrt{2+cos(1)}})dx + \\frac{2+sin(1)}{2\\sqrt{2+cos(1)}} dy } $\n",
    "\n",
    "$ \\large { dz(1;1) = (0.364dx+0.891dy) }$"
   ]
  },
  {
   "cell_type": "markdown",
   "metadata": {},
   "source": [
    "**4. Исследовать на экстремум функцию**\n",
    "\n",
    "$ \\large{ x^3 + xy + y^2 -6x -9y } $\n",
    "\n",
    "$ \\large{ z'_x = 2x+y-6 } $\n",
    "\n",
    "$ \\large{ z'_y = x+2y-9 } $\n",
    "\n",
    "$ \\large{ z''_{xx} = 2 } $\n",
    "\n",
    "$ \\large{ z''_{yy} = 2 } $\n",
    "\n",
    "$ \\large{ z''_{xy} = 1 } $\n",
    "\n",
    "$ \\large{ z''_{yx} = 1 } $\n",
    "\n",
    "$\\large{ (1;4) }$"
   ]
  },
  {
   "cell_type": "code",
   "execution_count": null,
   "metadata": {},
   "outputs": [],
   "source": []
  }
 ],
 "metadata": {
  "kernelspec": {
   "display_name": "Python 3",
   "language": "python",
   "name": "python3"
  },
  "language_info": {
   "codemirror_mode": {
    "name": "ipython",
    "version": 3
   },
   "file_extension": ".py",
   "mimetype": "text/x-python",
   "name": "python",
   "nbconvert_exporter": "python",
   "pygments_lexer": "ipython3",
   "version": "3.8.3"
  }
 },
 "nbformat": 4,
 "nbformat_minor": 4
}
