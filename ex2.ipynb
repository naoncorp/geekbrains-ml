{
 "cells": [
  {
   "cell_type": "markdown",
   "metadata": {},
   "source": [
    "# Тема 2 \"Множества\"\n",
    "\n",
    "**Задание:**\n",
    "\n",
    "Как относятся друг к другу множество и последовательность? (в ответе использовать слова типа: часть, целое, общее, частное, родитель, дочерний субъект и т.д.)\n",
    "\n",
    "**Ответ:**\n",
    "\n",
    "Последовательность — это пронумерованный набор каких-либо объектов, среди которых допускаются повторения, причём порядок объектов имеет значение. Нумерация чаще всего происходит натуральными числами.\n",
    "\n",
    "- Последовательность может быть как частным множества, так и содержать в себе набор множеств (быть их родителем).\n",
    "- Последовательность может быть множеством, но множество необязательно будет последовательностю.\n",
    "- Любое отображение множества N в себя также является последовательностью.\n",
    "- Последовательность элементов множества X может быть рассмотрена, как упорядоченное подмножество X, изоморфное множеству натуральных чисел.\n",
    "\n",
    "# Тема 3 “Последовательность”"
   ]
  },
  {
   "cell_type": "markdown",
   "metadata": {},
   "source": [
    "**Задание 1**\n",
    "\n",
    "___\n",
    "**Немного теории**\n",
    "\n",
    "Ограниченность.\n",
    "- Всякая неубывающая последовательность ограничена снизу.\n",
    "- Всякая невозрастающая последовательность ограничена сверху.\n",
    "- Всякая монотонная последовательность ограничена по крайней мере с одной стороны.\n",
    "\n",
    "Монотонная последовательность сходится тогда и только тогда, когда она ограничена с обеих сторон.\n",
    "- Сходящаяся неубывающая последовательность ограничена сверху своим пределом.\n",
    "- Сходящаяся невозрастающая последовательность ограничена снизу своим пределом.\n",
    "\n",
    "Последовательность называется монотонной, если она является неубывающей, либо невозрастающей.\n",
    "\n",
    "Последовательность называется строго монотонной, если она является возрастающей, либо убывающей.\n",
    "___\n",
    "\n",
    "Даны 4 последовательности. \n",
    "\n",
    "Необходимо:\n",
    "- исследовать их на монотонность; \n",
    "- исследовать на ограниченность;\n",
    "- найти пятый по счету член.\n",
    "\n"
   ]
  },
  {
   "cell_type": "markdown",
   "metadata": {},
   "source": [
    "$\\{a_n\\}_{n=1}^\\infty = 2^n - n$\n",
    "\n",
    "$a_5 = 2^5 - 5 = 27$"
   ]
  },
  {
   "cell_type": "code",
   "execution_count": 33,
   "metadata": {},
   "outputs": [
    {
     "name": "stdout",
     "output_type": "stream",
     "text": [
      "[1, 2, 5, 12, 27]\n",
      "27\n"
     ]
    }
   ],
   "source": [
    "res = []\n",
    "for n in range(1,6):\n",
    "    res.append(2**n - n)\n",
    "print(res)\n",
    "print(res[4])"
   ]
  },
  {
   "cell_type": "markdown",
   "metadata": {},
   "source": [
    "- возрастающая строго-монотонная последовательность\n",
    "- ограничена снизу и неограничена сверху"
   ]
  },
  {
   "cell_type": "markdown",
   "metadata": {},
   "source": [
    "$ \\{b_n\\}_{n=2}^\\infty = \\frac{1}{1-n}$\n",
    "\n",
    "$b_6 = \\frac{1}{1-6} = -0.2$ - пятый член последовантельности"
   ]
  },
  {
   "cell_type": "code",
   "execution_count": 34,
   "metadata": {},
   "outputs": [
    {
     "name": "stdout",
     "output_type": "stream",
     "text": [
      "[-1.0, -0.5, -0.3333333333333333, -0.25, -0.2]\n",
      "-0.2\n"
     ]
    }
   ],
   "source": [
    "res = []\n",
    "for n in range(2,7):\n",
    "    res.append(1/(1-n))\n",
    "print(res)\n",
    "print(res[4])"
   ]
  },
  {
   "cell_type": "markdown",
   "metadata": {},
   "source": [
    "- возрастающая строго-монотонная последовательность\n",
    "- ограничена снизу и неограничена сверху"
   ]
  },
  {
   "cell_type": "markdown",
   "metadata": {},
   "source": [
    "$ \\{c_n\\}_{n=1}^\\infty = -1^n + \\sqrt{2n}$\n",
    "\n",
    "$c_5 = -1^5 + \\sqrt{2*5} = 2.16$"
   ]
  },
  {
   "cell_type": "code",
   "execution_count": 46,
   "metadata": {},
   "outputs": [
    {
     "name": "stdout",
     "output_type": "stream",
     "text": [
      "[0.41421356237309515, 3.0, 1.4494897427831779, 3.8284271247461903, 2.1622776601683795]\n",
      "2.1622776601683795\n"
     ]
    }
   ],
   "source": [
    "import math\n",
    "res = []\n",
    "for n in range(1,6):\n",
    "    res.append((-1)**n+math.sqrt(2*n))\n",
    "print(res)\n",
    "print(res[4])"
   ]
  },
  {
   "cell_type": "markdown",
   "metadata": {},
   "source": [
    "- последовательность немонотонна из-за -1 в степени\n",
    "- последовательность ограничена снизу (>0) и неограничена сверху"
   ]
  },
  {
   "cell_type": "markdown",
   "metadata": {},
   "source": [
    "$ \\{d_n\\}_{n=1}^\\infty = (-1)^{2n} + \\frac{1}{n^2}$\n",
    "\n",
    "$ d_5 = (-1)^{2*5} + \\frac{1}{5^2} = 1.04$"
   ]
  },
  {
   "cell_type": "code",
   "execution_count": 52,
   "metadata": {},
   "outputs": [
    {
     "name": "stdout",
     "output_type": "stream",
     "text": [
      "[2.0, 1.25, 1.1111111111111112, 1.0625, 1.04]\n",
      "1.04\n"
     ]
    }
   ],
   "source": [
    "res = []\n",
    "for n in range(1,6):\n",
    "    res.append((-1)**(2*n)+1/n**2)\n",
    "print(res)\n",
    "print(res[4])"
   ]
  },
  {
   "cell_type": "markdown",
   "metadata": {},
   "source": [
    "- убывающая строго-монотонная последовательность\n",
    "- ограничена сверху (<2) и ограничена снизу (>1)"
   ]
  },
  {
   "cell_type": "markdown",
   "metadata": {},
   "source": [
    "**2. Найти 12-й член заданной неявно последовательности**"
   ]
  },
  {
   "cell_type": "markdown",
   "metadata": {},
   "source": [
    "$a_1 = 128, a_{n+1}-a_n = 6$\n",
    "\n",
    "$a_n = 6n + 128$\n",
    "\n",
    "$a_{12} = 206$"
   ]
  },
  {
   "cell_type": "code",
   "execution_count": 61,
   "metadata": {},
   "outputs": [
    {
     "name": "stdout",
     "output_type": "stream",
     "text": [
      "[140, 146, 152, 158, 164, 170, 176, 182, 188, 194, 200, 206]\n",
      "206\n"
     ]
    }
   ],
   "source": [
    "res = []\n",
    "a1 = 128\n",
    "for n in range(2,14):\n",
    "    a_n = 6*n+a1\n",
    "    res.append(a_n)\n",
    "    \n",
    "print(res)\n",
    "print(res[11])"
   ]
  },
  {
   "cell_type": "markdown",
   "metadata": {},
   "source": [
    "**3,4 На языке Python предложить алгоритм вычисляющий численно предел с точностью**\n",
    "\n",
    "$ \\lim_{n\\to\\infty} = \\frac{n}{\\sqrt[n]{n!}} = \\frac{n}{\\sqrt[n]{\\sqrt{2pn}*(\\frac{n}{e})^n}} = e$"
   ]
  },
  {
   "cell_type": "code",
   "execution_count": 105,
   "metadata": {},
   "outputs": [
    {
     "data": {
      "image/png": "[encoded data removed]",
      "text/latex": [
       "$\\displaystyle e$"
      ],
      "text/plain": [
       "ℯ"
      ]
     },
     "execution_count": 105,
     "metadata": {},
     "output_type": "execute_result"
    }
   ],
   "source": [
    "from sympy import *\n",
    "import math\n",
    "init_printing()\n",
    "\n",
    "n = Symbol('n')\n",
    "e = Symbol('e')\n",
    "a=n/factorial(n)**(1/n)\n",
    "a\n",
    "limit (a,n,oo)"
   ]
  },
  {
   "cell_type": "code",
   "execution_count": null,
   "metadata": {},
   "outputs": [],
   "source": []
  }
 ],
 "metadata": {
  "kernelspec": {
   "display_name": "Python 3",
   "language": "python",
   "name": "python3"
  },
  "language_info": {
   "codemirror_mode": {
    "name": "ipython",
    "version": 3
   },
   "file_extension": ".py",
   "mimetype": "text/x-python",
   "name": "python",
   "nbconvert_exporter": "python",
   "pygments_lexer": "ipython3",
   "version": "3.8.3"
  }
 },
 "nbformat": 4,
 "nbformat_minor": 4
}
