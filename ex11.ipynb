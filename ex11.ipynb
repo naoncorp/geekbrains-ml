{
 "cells": [
  {
   "cell_type": "markdown",
   "metadata": {},
   "source": [
    "## Тема 7 “Ряды”\n",
    "\n",
    "**Задание 1:**\n",
    "\n",
    "Исследовать ряд на сходимость, используя признак д’Аламбера:\n",
    "\n",
    "$ \\large{ \\sum_{n=1}^{\\infty} \\frac{n^n}{(n!)^2} } $\n",
    "\n",
    "$ \\large{ = \\lim_{n\\to\\infty} \\frac{\\frac{(n+1)^{n+1}}{(n+1)!^2}}{\\frac{n^n}{n!^2}} } $\n",
    "\n",
    "$ \\large{ = \\lim_{n\\to\\infty} \\frac{(n+1)^{n+1}}{n^n} * \\frac{n!^2}{(n+1)!^2} } $\n",
    "\n",
    "$ \\large{ = \\lim_{n\\to\\infty} \\frac{(n+1)*(n+1)^n*n!^2}{n^n*(n+1)^2*n!^2} } $\n",
    "\n",
    "$ \\large{ = \\lim_{n\\to\\infty} \\frac{(n+1)^n}{n^n*(n+1)} = 0 } \n",
    "\n",
    "Ответ:\n",
    "\n",
    "Так как q<1, то ряд сходится"
   ]
  },
  {
   "cell_type": "markdown",
   "metadata": {},
   "source": [
    "**Задание 2:**\n",
    "\n",
    "Исследовать ряд на сходимость, используя радикальный признак Коши:\n",
    "\n",
    "\n",
    "$ \\large{ \\sum_{n=1}^{\\infty} \\frac{n}{2^n} } $\n",
    "\n",
    "$ \\large{ = \\lim_{n\\to\\infty} \\sqrt[n]{2^{-n}n} } $\n",
    "\n",
    "$ \\large{ = \\lim_{n\\to\\infty} exp(log(\\sqrt[n]{2^{-n}n})) } $\n",
    "\n",
    "$ \\large{ = \\lim_{n\\to\\infty} exp(log(\\frac{log(2^{-n}n)}{n}) } $\n",
    "\n",
    "$ \\large{ = exp(\\lim_{n\\to\\infty} (\\frac{log(2^{-n}n)}{n}) } $\n",
    "\n",
    "Применяем правило Лопиталя\n",
    "\n",
    "$ \\large{ = exp(\\lim_{n\\to\\infty} (\\frac{1-log(2)n}{n}) } $\n",
    "\n",
    "$ \\large{ = exp(\\lim_{n\\to\\infty} (\\frac{\\frac{1}{n}-log(2)}{1}) } $\n",
    "\n",
    "$ \\large{ = exp(-log(2)) = \\frac{1}{2} } $\n",
    "\n",
    "Так как q<1 и q != 1, то ряд сходится"
   ]
  },
  {
   "cell_type": "markdown",
   "metadata": {},
   "source": [
    "**Задание 3:**\n",
    "\n",
    "Исследовать ряд на сходимость, используя признак Лейбница:\n",
    "\n",
    "$ \\large{ \\sum_{n=1}^{\\infty} \\frac{(-1)^n}{n+ln(n)} } $\n",
    "\n",
    "Не смог рассчитать предел, но python выдает 0."
   ]
  },
  {
   "cell_type": "code",
   "execution_count": 23,
   "metadata": {},
   "outputs": [
    {
     "data": {
      "text/latex": [
       "$\\displaystyle 0$"
      ],
      "text/plain": [
       "0"
      ]
     },
     "execution_count": 23,
     "metadata": {},
     "output_type": "execute_result"
    }
   ],
   "source": [
    "from sympy import limit_seq, Sum, binomial, ln\n",
    "from sympy.abc import n, k, m\n",
    "import math\n",
    "\n",
    "limit_seq((-1)**n/(n+ln(n)), n)"
   ]
  },
  {
   "cell_type": "code",
   "execution_count": 22,
   "metadata": {},
   "outputs": [
    {
     "name": "stdout",
     "output_type": "stream",
     "text": [
      "1.0\n",
      "0.37131279241563214\n",
      "0.24398501970162229\n",
      "0.18565639620781607\n",
      "0.1512987962438887\n",
      "0.1283407173885813\n",
      "0.11178292463686323\n",
      "0.09921184580166138\n",
      "0.0893078452694477\n"
     ]
    }
   ],
   "source": [
    "items = range(1,10)\n",
    "for n in items:\n",
    "    print(abs(((-1)**n)/(n+math.log(n))))"
   ]
  },
  {
   "cell_type": "markdown",
   "metadata": {},
   "source": [
    "Т.к. предел равен 0 и каждое следущее число меньше, чем предыдущее - ряд сходится."
   ]
  },
  {
   "cell_type": "markdown",
   "metadata": {},
   "source": [
    "**Задание 4**\n",
    "\n",
    "Исследовать ряд на сходимость, используя признак Раабе:\n",
    "\n",
    "$ \\large{ \\sum_{n=1}^{\\infty} \\frac{3^n}{2^n} } $\n",
    "\n",
    "$ \\large{ \\lim_{n\\to\\infty} (n*(\\frac{\\frac{3^n}{2^n}}{\\frac{3^{n+1}}{2^{n+1}}})-1) } $\n",
    "\n",
    "$ \\large{ = \\lim_{n\\to\\infty} (n*(\\frac{3^n*2^{n+1}}{2^n*3^{n+1}})-1) } $\n"
   ]
  },
  {
   "cell_type": "code",
   "execution_count": 27,
   "metadata": {},
   "outputs": [
    {
     "data": {
      "text/latex": [
       "$\\displaystyle -\\infty$"
      ],
      "text/plain": [
       "-oo"
      ]
     },
     "execution_count": 27,
     "metadata": {},
     "output_type": "execute_result"
    }
   ],
   "source": [
    "from sympy import limit_seq, Sum, binomial, ln\n",
    "from sympy.abc import n, k, m\n",
    "import math\n",
    "\n",
    "limit_seq(n*((3**n*2**(n+1))/(2**n*3**(n+1))-1), n)"
   ]
  },
  {
   "cell_type": "markdown",
   "metadata": {},
   "source": [
    "Так как D < 0 - ряд расходится."
   ]
  },
  {
   "cell_type": "markdown",
   "metadata": {},
   "source": [
    "**Задание 5**\n",
    "\n",
    "Разложить функцию по Тейлору в единице:\n",
    "\n",
    "$ \\large{ f(x) = ln(16x^2) } $\n",
    "\n",
    "$ \\large{ f'(x) = \\frac{2}{x}, f'(1) = 2 } $\n",
    "\n",
    "$ \\large{ f''(x) = -\\frac{2}{x^2}, f''(1) = -2 } $\n",
    "\n",
    "$ \\large{ f'''(x) = \\frac{4}{x^3}, f'''(1) = 4 } $\n",
    "\n",
    "Ответ:\n",
    "\n",
    "$ \\large{ f(x) = ln(16x^2) = ln(16)+\\frac{2}{1!}(x-1)+\\frac{-2}{2!}(x-1)^2+\\frac{4}{3!}(x-1)^3+... } $"
   ]
  },
  {
   "cell_type": "code",
   "execution_count": null,
   "metadata": {},
   "outputs": [],
   "source": []
  }
 ],
 "metadata": {
  "kernelspec": {
   "display_name": "Python 3",
   "language": "python",
   "name": "python3"
  },
  "language_info": {
   "codemirror_mode": {
    "name": "ipython",
    "version": 3
   },
   "file_extension": ".py",
   "mimetype": "text/x-python",
   "name": "python",
   "nbconvert_exporter": "python",
   "pygments_lexer": "ipython3",
   "version": "3.8.5"
  }
 },
 "nbformat": 4,
 "nbformat_minor": 4
}
