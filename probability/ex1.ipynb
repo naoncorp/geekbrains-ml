{
 "cells": [
  {
   "cell_type": "code",
   "execution_count": null,
   "metadata": {},
   "outputs": [],
   "source": [
    "from math import factorial\n",
    "\n",
    "def combinations(n, k):\n",
    "    return int(factorial(n) / (factorial(k) * factorial(n - k)))\n",
    "\n",
    "def arrangements(n, k):\n",
    "    return int(factorial(n) / factorial(n - k))\n",
    "\n",
    "def permutations(n):\n",
    "    return int(factorial(n))"
   ]
  },
  {
   "cell_type": "markdown",
   "metadata": {},
   "source": [
    "**1. Из колоды в 52 карты извлекаются случайным образом 4 карты.**\n",
    "\n",
    "a) Найти вероятность того, что все карты – крести. \n"
   ]
  },
  {
   "cell_type": "markdown",
   "metadata": {},
   "source": [
    "Кол-во карт крести\n",
    "\n",
    "$ \\large{ \\frac{52}{4} = 13 } $"
   ]
  },
  {
   "cell_type": "code",
   "execution_count": 11,
   "metadata": {},
   "outputs": [
    {
     "name": "stdout",
     "output_type": "stream",
     "text": [
      "Число сочетаний когда выбирается 4 из 13 крести: 715\n",
      "Число сочетаний когда выбирается 4 карты из 52: 270725\n",
      "Вероятность, что все карты крести: 0.0026410564225690276\n"
     ]
    }
   ],
   "source": [
    "a = combinations(13,4)\n",
    "b = combinations(52,4)\n",
    "\n",
    "print(f'Число сочетаний когда выбирается 4 из 13 крести: {a}')\n",
    "print(f'Число сочетаний когда выбирается 4 карты из 52: {b}')\n",
    "print(f'Вероятность, что все карты крести: {a/b}')"
   ]
  },
  {
   "cell_type": "markdown",
   "metadata": {},
   "source": [
    "$ \\large{ \\frac{C_{13}^4}{C_{52}^4} = 0.00264 } $"
   ]
  },
  {
   "cell_type": "markdown",
   "metadata": {},
   "source": [
    "б) Найти вероятность, что среди 4-х карт окажется хотя бы один туз."
   ]
  },
  {
   "cell_type": "code",
   "execution_count": 20,
   "metadata": {},
   "outputs": [
    {
     "name": "stdout",
     "output_type": "stream",
     "text": [
      "Число сочетаний когда выбирается 1 туз из 4: 4\n",
      "Число сочетаний когда выбирается 3 карты из 48 (исключаяя тузы): 17296\n",
      "Итоговое число сочетаний когда выбирается 4 карты и один из них туз: 69184\n",
      "Вероятность, что выберется хотябы 1 туз: 0.25555083571890297\n"
     ]
    }
   ],
   "source": [
    "a = combinations(4,1)\n",
    "b = combinations(48,3)\n",
    "total_with_T = a*b\n",
    "total = combinations(52,4)\n",
    "\n",
    "print(f'Число сочетаний когда выбирается 1 туз из 4: {a}')\n",
    "print(f'Число сочетаний когда выбирается 3 карты из 48 (исключаяя тузы): {b}')\n",
    "print(f'Итоговое число сочетаний когда выбирается 4 карты и один из них туз: {total_with_T}')\n",
    "\n",
    "print(f'Вероятность, что выберется хотябы 1 туз: {total_with_T/total}')"
   ]
  },
  {
   "cell_type": "markdown",
   "metadata": {},
   "source": [
    "$ \\large{ \\frac{C_{4}^1*C_{48}^3}{C_{52}^4} = 0.25555 } $"
   ]
  },
  {
   "cell_type": "markdown",
   "metadata": {},
   "source": [
    "**2. На входной двери подъезда установлен кодовый замок, содержащий десять кнопок с цифрами от 0 до 9. Код содержит три цифры, которые нужно нажать одновременно.**"
   ]
  },
  {
   "cell_type": "code",
   "execution_count": 23,
   "metadata": {},
   "outputs": [
    {
     "name": "stdout",
     "output_type": "stream",
     "text": [
      "Вероятность: 0.008333333333333333\n"
     ]
    }
   ],
   "source": [
    "print(f'Вероятность: {(3/10)*(2/9)*(1/8)}')"
   ]
  },
  {
   "cell_type": "markdown",
   "metadata": {},
   "source": [
    "$ \\large{ P(3) = \\frac{3}{10}*\\frac{2}{9}*\\frac{1}{8} = 0.00833 } $"
   ]
  },
  {
   "cell_type": "markdown",
   "metadata": {},
   "source": [
    "**3. В ящике имеется 15 деталей, из которых 9 окрашены. Рабочий случайным образом извлекает 3 детали. Какова вероятность того, что все извлеченные детали окрашены?**"
   ]
  },
  {
   "cell_type": "code",
   "execution_count": 21,
   "metadata": {},
   "outputs": [
    {
     "name": "stdout",
     "output_type": "stream",
     "text": [
      "Вероятность: 0.18461538461538457\n"
     ]
    }
   ],
   "source": [
    "print(f'Вероятность: {(9/15)*(8/14)*(7/13)}')"
   ]
  },
  {
   "cell_type": "markdown",
   "metadata": {},
   "source": [
    "$ \\large{ P(3) = \\frac{9}{15}*\\frac{8}{14}*\\frac{7}{13} = 0.184615 } $"
   ]
  },
  {
   "cell_type": "markdown",
   "metadata": {},
   "source": [
    "**4. В лотерее 100 билетов. Из них 2 выигрышных. Какова вероятность того, что 2 приобретенных билета окажутся выигрышными?**"
   ]
  },
  {
   "cell_type": "code",
   "execution_count": 22,
   "metadata": {},
   "outputs": [
    {
     "name": "stdout",
     "output_type": "stream",
     "text": [
      "Вероятность: 0.00020202020202020205\n"
     ]
    }
   ],
   "source": [
    "print(f'Вероятность: {(2/100)*(1/99)}')"
   ]
  },
  {
   "cell_type": "markdown",
   "metadata": {},
   "source": [
    "$ \\large{ P(2) = \\frac{2}{100}*\\frac{1}{99} = 0.000202 } $"
   ]
  },
  {
   "cell_type": "code",
   "execution_count": null,
   "metadata": {},
   "outputs": [],
   "source": []
  }
 ],
 "metadata": {
  "kernelspec": {
   "display_name": "Python 3",
   "language": "python",
   "name": "python3"
  },
  "language_info": {
   "codemirror_mode": {
    "name": "ipython",
    "version": 3
   },
   "file_extension": ".py",
   "mimetype": "text/x-python",
   "name": "python",
   "nbconvert_exporter": "python",
   "pygments_lexer": "ipython3",
   "version": "3.8.5"
  }
 },
 "nbformat": 4,
 "nbformat_minor": 4
}
