{
 "cells": [
  {
   "cell_type": "code",
   "execution_count": 34,
   "metadata": {},
   "outputs": [],
   "source": [
    "import numpy as np\n",
    "from math import factorial\n",
    "\n",
    "def combinations(n, k):\n",
    "    return int(factorial(n) / (factorial(k) * factorial(n - k)))\n",
    "\n",
    "def get_prob(n,m,p):    \n",
    "    lambda_ = n * p\n",
    "    \n",
    "    if lambda_ > 10:\n",
    "        print('Бернулли')\n",
    "        res = combinations(n, m) * (p ** m) * (1 - p) ** (n - m)\n",
    "    else:\n",
    "        print('Пуассон')\n",
    "        res = (lambda_**m / np.math.factorial(m)) * np.exp(-lambda_)\n",
    "    return res"
   ]
  },
  {
   "cell_type": "markdown",
   "metadata": {},
   "source": [
    "**1. Вероятность того, что стрелок попадет в мишень, выстрелив один раз, равна 0.8. Стрелок выстрелил 100 раз. Найдите вероятность того, что стрелок попадет в цель ровно 85 раз.**\n",
    "\n",
    "$ \\large{ = C_{100}^{85} * 0.8^85 * (1-0.8)^{100-85} = 0.0480 } $"
   ]
  },
  {
   "cell_type": "code",
   "execution_count": 35,
   "metadata": {},
   "outputs": [
    {
     "name": "stdout",
     "output_type": "stream",
     "text": [
      "Бернулли\n"
     ]
    },
    {
     "data": {
      "text/plain": [
       "0.048061793700746355"
      ]
     },
     "execution_count": 35,
     "metadata": {},
     "output_type": "execute_result"
    }
   ],
   "source": [
    "get_prob(100,85,0.8)"
   ]
  },
  {
   "cell_type": "markdown",
   "metadata": {},
   "source": [
    "**2. Вероятность того, что лампочка перегорит в течение первого дня эксплуатации, равна 0.0004. В жилом комплексе после ремонта в один день включили 5000 новых лампочек.**\n",
    "- Какова вероятность, что ни одна из них не перегорит в первый день? \n",
    "- Какова вероятность, что перегорят ровно две?\n",
    "\n",
    "$ \\large{ \\lambda = 5000*0.0004 = 2 } $\n",
    "\n",
    "$ \\large{ \\frac{2^0}{0!} * e^{-2} } = 0.135 $"
   ]
  },
  {
   "cell_type": "code",
   "execution_count": 36,
   "metadata": {},
   "outputs": [
    {
     "name": "stdout",
     "output_type": "stream",
     "text": [
      "Пуассон\n"
     ]
    },
    {
     "data": {
      "text/plain": [
       "0.1353352832366127"
      ]
     },
     "execution_count": 36,
     "metadata": {},
     "output_type": "execute_result"
    }
   ],
   "source": [
    "get_prob(5000,0,0.0004)"
   ]
  },
  {
   "cell_type": "markdown",
   "metadata": {},
   "source": [
    "$ \\large{ \\lambda = 5000*0.0004 = 2 } $\n",
    "\n",
    "$ \\large{ \\frac{2^2}{2!} * e^{-2} } = 0.270 $"
   ]
  },
  {
   "cell_type": "code",
   "execution_count": 37,
   "metadata": {},
   "outputs": [
    {
     "name": "stdout",
     "output_type": "stream",
     "text": [
      "Пуассон\n"
     ]
    },
    {
     "data": {
      "text/plain": [
       "0.2706705664732254"
      ]
     },
     "execution_count": 37,
     "metadata": {},
     "output_type": "execute_result"
    }
   ],
   "source": [
    "get_prob(5000,2,0.0004)"
   ]
  },
  {
   "cell_type": "markdown",
   "metadata": {},
   "source": [
    "**3. Монету подбросили 144 раза. Какова вероятность, что орел выпадет ровно 70 раз?**\n",
    "\n",
    "$ \\large{ = C_{144}^{70} * 0.5^{85} * (1-0.5)^{144-70} = 0.0628 } $"
   ]
  },
  {
   "cell_type": "code",
   "execution_count": 38,
   "metadata": {},
   "outputs": [
    {
     "name": "stdout",
     "output_type": "stream",
     "text": [
      "Бернулли\n"
     ]
    },
    {
     "data": {
      "text/plain": [
       "0.06281178035144776"
      ]
     },
     "execution_count": 38,
     "metadata": {},
     "output_type": "execute_result"
    }
   ],
   "source": [
    "get_prob(144,70,0.5)"
   ]
  },
  {
   "cell_type": "markdown",
   "metadata": {},
   "source": [
    "**4. В первом ящике находится 10 мячей, из которых 7 - белые. Во втором ящике - 11 мячей, из которых 9 белых. Из каждого ящика вытаскивают случайным образом по два мяча.**\n",
    "\n",
    "- Какова вероятность того, что все мячи белые? \n",
    "\n",
    "$ \\large{ \\frac{7}{10}*\\frac{6}{9} = 0.467 } $\n",
    "\n",
    "$ \\large{ \\frac{9}{11}*\\frac{8}{10} = 0.655 } $\n",
    "\n",
    "Ответ: $ \\large{ 0.467 * 0.655 = 0.305 } $\n",
    "\n",
    "- Какова вероятность того, что ровно два мяча белые? \n",
    "\n",
    "$ \\large{ \\frac{7}{10} = 0.7 } $\n",
    "\n",
    "$ \\large{ \\frac{9}{11} = 0.818 } $\n",
    "\n",
    "Ответ: $ \\large{ 0.467 * 0.655 = 0.572 } $\n",
    "\n",
    "- Какова вероятность того, что хотя бы один мяч белый?\n",
    "\n",
    "$ \\large{ \\frac{7}{10} = 0.7 } $\n",
    "\n",
    "$ \\large{ \\frac{9}{11} = 0.818 } $\n",
    "\n",
    "Ответ: $ \\large{ 0.7+0,818-(0.467 * 0.655) = 0.964 } $"
   ]
  },
  {
   "cell_type": "code",
   "execution_count": null,
   "metadata": {},
   "outputs": [],
   "source": []
  }
 ],
 "metadata": {
  "kernelspec": {
   "display_name": "Python 3",
   "language": "python",
   "name": "python3"
  },
  "language_info": {
   "codemirror_mode": {
    "name": "ipython",
    "version": 3
   },
   "file_extension": ".py",
   "mimetype": "text/x-python",
   "name": "python",
   "nbconvert_exporter": "python",
   "pygments_lexer": "ipython3",
   "version": "3.8.5"
  }
 },
 "nbformat": 4,
 "nbformat_minor": 4
}
