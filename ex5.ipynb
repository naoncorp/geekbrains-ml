{
 "cells": [
  {
   "cell_type": "markdown",
   "metadata": {},
   "source": [
    "# Тема 6 “Понятие о производной”\n",
    "\n",
    "**Задание 1c**\n",
    "\n",
    "$ \\large{ \\sqrt{sin^2(ln(x^3))} } $\n",
    "\n",
    "___\n",
    "Заменим $ \\large{ u = sin^2(log(x^3))) } $\n",
    "\n",
    "= $ \\large{ \\sqrt{u} = \\frac{1}{2\\sqrt{u}} } $\n",
    "\n",
    "___\n",
    "\n",
    "$ \\large{ \\frac{d}{dx} sin^2(log(x^3))) } $\n",
    "\n",
    "Заменим $ \\large{ u = sin(log(x^3)) } $\n",
    "\n",
    "= $ \\large{ u^2 = 2u } $\n",
    "\n",
    "___\n",
    "\n",
    "$ \\large{ \\frac{d}{dx} sin(log(x^3))) } $\n",
    "\n",
    "Заменим $ \\large{ u = log(x^3) } $\n",
    "\n",
    "= $ \\large { \\frac{d}{du}sin(u) = cos(u)} $\n",
    "\n",
    "___\n",
    "\n",
    "$ \\large{ \\frac{d}{dx}log(x^3) } $\n",
    "\n",
    "Заменим $ \\large{ u=x^3 } $\n",
    "\n",
    "= $ \\large{ log(u) = \\frac{1}{u} }$\n",
    "\n",
    "___\n",
    "\n",
    "= $ \\large{ \\frac{d}{dx}x^3 = \\frac{3}{x} } $\n",
    "\n",
    "___\n",
    "\n",
    "Соберем все вместе:\n",
    "\n",
    "$ \\large{ \\frac{3sin(log(x^3))cos(log(x^3))}{\\sqrt[x]{sin^2(log(x^3))}} = \\frac{3\\sqrt{2}sin(2log(x^3))}{\\sqrt[2x]{1-cos(2log(x^3))}} } $"
   ]
  },
  {
   "cell_type": "markdown",
   "metadata": {},
   "source": [
    "___\n",
    "**Задание 2**\n",
    "\n",
    "$ \\large{ f(x) = cos(x^2+3x), x_0 = \\sqrt{\\pi} } $\n",
    "\n",
    "Заменим: $ \\large{ u = x^2 +3x } $\n",
    "\n",
    "$ \\large{ cos(u)' = -sin(u) } $\n",
    "\n",
    "$ \\large{ (x^2+3x)' = 2x+3 } $\n",
    "\n",
    "В итоге:\n",
    "\n",
    "$ \\large{ = (-2x+3)sin(x^2+3x) = -(2x+3)sin(x(x+3)) }$\n",
    "\n",
    "Найдем производную в точке:"
   ]
  },
  {
   "cell_type": "code",
   "execution_count": 2,
   "metadata": {},
   "outputs": [
    {
     "name": "stdout",
     "output_type": "stream",
     "text": [
      "-5.383302410890626\n"
     ]
    }
   ],
   "source": [
    "import math\n",
    "x = math.sqrt(math.pi)\n",
    "res = -(2*x+3)*math.sin(x*(x+3))\n",
    "print(res)"
   ]
  },
  {
   "cell_type": "markdown",
   "metadata": {},
   "source": [
    "___\n",
    "**Задание 3**\n",
    "\n",
    "$ \\large{ \\frac{x^3-x^2-x-1}{1+2x+3x^2+4x^3}, x_0 = 0 } $\n",
    "\n",
    "$ \\large{ (x^3-x^2-x-1)' = 3x^2-2x-1 } $\n",
    "\n",
    "$ \\large{ (1+2x+3x^2+4x^3)' = 12x^2+6x+2 } $\n",
    "\n",
    "Применим правило произвоной частного:\n",
    "\n",
    "$ \\large{ \\frac{(3x^2-2x-1)(1+2x+3x^2+4x^3)-(12x^2+6x+2)(x^3-x^2-x-1)}{1+2x+3x^2+4x^3} = \\frac{7x^4+12x^3+16x^2+4x+1}{16x^6+24x^5+25x^4+20x^3+10x^2+4x+1} } $\n",
    "\n",
    "Найдем производную в точке:"
   ]
  },
  {
   "cell_type": "code",
   "execution_count": 1,
   "metadata": {},
   "outputs": [
    {
     "name": "stdout",
     "output_type": "stream",
     "text": [
      "1.0\n"
     ]
    }
   ],
   "source": [
    "import math\n",
    "x = 0\n",
    "res = (7*x**4+12*x**3+16*x**2+4*x+1)/(16*x**6+24*x**5+25*x**4+20*x**3+10*x**2+4*x+1)\n",
    "print(res)"
   ]
  },
  {
   "cell_type": "markdown",
   "metadata": {},
   "source": [
    "___\n",
    "**Задание 4**\n",
    "\n",
    "$ \\large{ \\sqrt{3x}ln(x), x_0 = 1 } $\n",
    "\n",
    "Правило производной умножения\n",
    "\n",
    "Заменим $ \\large{ u = 3x } $\n",
    "\n",
    "$ \\large { \\sqrt{u} = \\frac{1}{2\\sqrt{u}} } $\n",
    "\n",
    "$ \\large{ (3x)' = 3 } $\n",
    "\n",
    "$ \\large{ = \\frac{\\sqrt{3}}{2{\\sqrt{x}}} }$\n",
    "\n",
    "$ \\large{ (ln(x))' = \\frac{1}{x} } $\n",
    "\n",
    "В итоге:\n",
    "\n",
    "$ \\large{ \\frac{\\sqrt{3}\\sqrt{x}}{x} + \\frac{\\sqrt{3}log(x)}{2\\sqrt{x}} } = \\frac{\\sqrt{3}(log(x)+2)}{2\\sqrt{x}} $\n",
    "\n",
    "\n",
    "Уравнение касательной\n",
    "\n",
    "$ \\large { y=f(x_{0})+f'(x_{0})\\cdot (x-x_{0}) } $\n",
    "\n",
    "Ответ\n",
    "\n",
    "$ \\large{ \\sqrt{3}*x-\\sqrt{3} } $ "
   ]
  },
  {
   "cell_type": "markdown",
   "metadata": {},
   "source": []
  },
  {
   "cell_type": "code",
   "execution_count": null,
   "metadata": {},
   "outputs": [],
   "source": []
  }
 ],
 "metadata": {
  "kernelspec": {
   "display_name": "Python 3",
   "language": "python",
   "name": "python3"
  },
  "language_info": {
   "codemirror_mode": {
    "name": "ipython",
    "version": 3
   },
   "file_extension": ".py",
   "mimetype": "text/x-python",
   "name": "python",
   "nbconvert_exporter": "python",
   "pygments_lexer": "ipython3",
   "version": "3.8.3"
  }
 },
 "nbformat": 4,
 "nbformat_minor": 4
}
