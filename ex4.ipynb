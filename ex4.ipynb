{
 "cells": [
  {
   "cell_type": "markdown",
   "metadata": {},
   "source": [
    "# Тема \"Пределы функции\"\n",
    "\n",
    "$ \\large{ \\lim_{x \\to \\infty} (\\frac{x+3}{x})^{4x+1} } $ \n",
    "\n",
    "= $ \\large{ \\lim_{x \\to \\infty} (\\frac{x}{x} + \\frac{3}{x})^{4x+1} } $\n",
    "\n",
    "= $ \\large{\\lim_{x \\to \\infty} (1 + \\frac{3}{x})^{4x+1} }  $\n",
    "\n",
    "Сделаем замену:\n",
    "\n",
    "$ \\large{ u = \\frac{x}{3}} $\n",
    "\n",
    "= $ \\large{ \\lim_{x \\to \\infty} (1 + \\frac{3}{x})^{4x+1} }$\n",
    "\n",
    "= $ \\large{ \\lim_{x \\to \\infty} (1 + \\frac{1}{u})^{12u+1} } $\n",
    "\n",
    "= $ \\large { \\lim_{x \\to \\infty} ((1 + \\frac{1}{u})^{1} * (1 + \\frac{1}{u})^{12u}) } $ \n",
    "\n",
    "= $ \\large { \\lim_{x \\to \\infty} (1 + \\frac{1}{u})^{1} \\lim_{x \\to \\infty} (1 + \\frac{1}{u})^{12u} } $ \n",
    "\n",
    "= $ \\large { \\lim_{x \\to \\infty} (1 + \\frac{1}{u})^{12u} } $ \n",
    "\n",
    "= $ \\large { ((\\lim_{x \\to \\infty} (1 + \\frac{1}{u})^{u}))^{12} } $ \n",
    "\n",
    "Где $ \\large{ \\lim_{x \\to \\infty} (1 + \\frac{1}{u})^{u} } $ - есть второй замечательный предел \n",
    "\n",
    "= $ \\large { e^{12} }  $\n",
    "\n",
    "___"
   ]
  },
  {
   "cell_type": "markdown",
   "metadata": {},
   "source": [
    "# Тема \"Теоремы о пределах\"\n",
    "\n",
    "**Задание d** \n",
    "\n",
    "$ \\large { \\lim_{x \\to \\infty } (\\frac{4x+3}{4x-3})^{6x} } $\n",
    "\n",
    "= $ \\large { \\lim_{x \\to \\infty } (\\frac{(4x-3)+6}{4x-3})^{6x} } $\n",
    "\n",
    "= $ \\large { \\lim_{x \\to \\infty } (\\frac{4x-3}{4x-3} + \\frac{6}{4x-3})^{6x} } $\n",
    "\n",
    "= $ \\large { \\lim_{x \\to \\infty } (1 + \\frac{6}{4x-3})^{6x} } $\n",
    "\n",
    "Сделаем замену\n",
    "\n",
    "$ \\large { u = \\frac{4x-3}{6} } $ \n",
    "\n",
    "= $ \\large { \\lim_{x \\to \\infty } (1 + \\frac{1}{u})^{9u+\\frac{9}{2}} } $\n",
    "\n",
    "= $ \\large { \\lim_{x \\to \\infty } ((1 + \\frac{1}{u})^{\\frac{9}{2}} + (1 + \\frac{1}{u})^{9u}) } $\n",
    "\n",
    "= $ \\large { \\lim_{x \\to \\infty } (1 + \\frac{1}{u})^{\\frac{9}{2}} \\lim_{x \\to \\infty } (1 + \\frac{1}{u})^{9u} } $\n",
    "\n",
    "= $ \\large { \\lim_{x \\to \\infty } (1 + \\frac{1}{u})^{9u} } $\n",
    "\n",
    "= $ \\large { ((\\lim_{x \\to \\infty } (1 + \\frac{1}{u})^{u}))^9 } $\n",
    "\n",
    "= $ \\large { e^9 } $\n",
    "___"
   ]
  },
  {
   "cell_type": "markdown",
   "metadata": {},
   "source": [
    "**Задание e** \n",
    "\n",
    "$ \\large { \\lim_{x \\to \\infty } (\\frac{ln(x)+sin(x)}{x}) = \\frac{\\infty}{\\infty} } $\n",
    "\n",
    "$ \\large { = \\lim_{x \\to \\infty } (\\frac{\\frac{d}{dx}*(ln(x)+sin(x)}{\\frac{d}{dx}x})) } $\n",
    "\n",
    "Решаем в соответствии с таблицей производных\n",
    "\n",
    "$ \\large { = \\lim_{x \\to \\infty } (cos(x) + \\frac{1}{x}) } $\n",
    "\n",
    "$ \\large { = 0 } $\n"
   ]
  },
  {
   "cell_type": "code",
   "execution_count": 2,
   "metadata": {},
   "outputs": [
    {
     "data": {
      "image/png": "[encoded data removed]",
      "text/latex": [
       "$\\displaystyle \\left\\langle -1, 1\\right\\rangle$"
      ],
      "text/plain": [
       "<-1, 1>"
      ]
     },
     "execution_count": 2,
     "metadata": {},
     "output_type": "execute_result"
    }
   ],
   "source": [
    "from sympy import *\n",
    "import math\n",
    "init_printing()\n",
    "\n",
    "n = Symbol('n')\n",
    "e = Symbol('e')\n",
    "a=cos(n) + (1/n)\n",
    "a\n",
    "limit (a,n,oo)"
   ]
  },
  {
   "cell_type": "markdown",
   "metadata": {},
   "source": [
    "____\n",
    "**Задание f**\n",
    "\n",
    "$ \\large { \\lim_{x \\to 0 } (\\frac{ln(x)+sin(x)}{x}) = -\\infty } $ \n",
    "\n",
    "при делении на 0 будет -oo?"
   ]
  },
  {
   "cell_type": "code",
   "execution_count": 5,
   "metadata": {},
   "outputs": [
    {
     "data": {
      "image/png": "[encoded data removed]",
      "text/latex": [
       "$\\displaystyle -\\infty$"
      ],
      "text/plain": [
       "-∞"
      ]
     },
     "execution_count": 5,
     "metadata": {},
     "output_type": "execute_result"
    }
   ],
   "source": [
    "from sympy import *\n",
    "import math\n",
    "init_printing()\n",
    "\n",
    "n = Symbol('n')\n",
    "e = Symbol('e')\n",
    "a=(ln(n) + sin(n))/n\n",
    "a\n",
    "limit (a,n,0)"
   ]
  },
  {
   "cell_type": "markdown",
   "metadata": {},
   "source": [
    "# Тема 6 “Понятие о производной”\n",
    "\n",
    "**Задание a**\n",
    "\n",
    "$ \\large{  (sin(x)*cos(x))' } $ \n",
    "\n",
    "$ \\large{  \\frac{d}{dx}sin(x) = cos(x) } $\n",
    "\n",
    "$ \\large{  \\frac{d}{dx}cos(x) = -sin(x) } $\n",
    "\n",
    "$ \\large{ = sin(x)*-sin(x)+cos(x)*cos(x) } $\n",
    "\n",
    "$ \\large{ = -sin^2(x)+cos^2(x) = cos(2x) } $\n",
    "\n",
    "$ \\large{ = cos(2x) } $"
   ]
  },
  {
   "cell_type": "markdown",
   "metadata": {},
   "source": [
    "___\n",
    "\n",
    "**Задание b**\n",
    "\n",
    "$ \\large{  (ln(2x+1)^3)' } $ \n",
    "\n",
    "Заменим $ \\large { u = log(2x+1) = (u^3)' = 3u^2 } $\n",
    "\n",
    "$ \\large{ \\frac{d}{dx}ln(2x+1) } $\n",
    "\n",
    "Заменим $ \\large{ u = 2x + 1 } $\n",
    "\n",
    "$ \\large { ln(u)' = \\frac{1}{u} } $\n",
    "\n",
    "$ \\large { \\frac{d}{dx}(2x+1) } = 2 $\n",
    "\n",
    "$ \\large { \\frac{2}{2x+1} } $\n",
    "\n",
    "Ответ: $ \\large{ \\frac{6log(2x+1)^2}{2x+1} } $"
   ]
  },
  {
   "cell_type": "markdown",
   "metadata": {},
   "source": [
    "___\n",
    "\n",
    "**Задание d**\n",
    "\n",
    "$ \\large{ (\\frac{x^4}{ln(x)})' } $\n",
    "\n",
    "Применим правило производной частного:\n",
    "\n",
    "$ \\large{ \\frac{d}{dx} \\frac{f(x)}{g(x)} = \\frac{-f(x)\\frac{d}{dx}g(x) + g(x)\\frac{d}{dx}f(x)}{x^2(x)} } $ \n",
    "\n",
    "$ \\large { f(x) = x^4; g(x) = log(x) } $\n",
    "\n",
    "$ \\large { (x^4)' = 4x^3} $\n",
    "\n",
    "$ \\large { (log(x))' = \\frac{1}{x} } $\n",
    "\n",
    "$ \\large { \\frac{4x^{3}log(x)-x^3}{log(x)^2} } = \\frac{x^{3}(4log(x)-1)}{log(x)^2} $"
   ]
  },
  {
   "cell_type": "code",
   "execution_count": null,
   "metadata": {},
   "outputs": [],
   "source": []
  }
 ],
 "metadata": {
  "kernelspec": {
   "display_name": "Python 3",
   "language": "python",
   "name": "python3"
  },
  "language_info": {
   "codemirror_mode": {
    "name": "ipython",
    "version": 3
   },
   "file_extension": ".py",
   "mimetype": "text/x-python",
   "name": "python",
   "nbconvert_exporter": "python",
   "pygments_lexer": "ipython3",
   "version": "3.8.3"
  }
 },
 "nbformat": 4,
 "nbformat_minor": 4
}
