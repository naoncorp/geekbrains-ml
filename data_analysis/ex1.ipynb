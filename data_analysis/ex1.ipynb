{
 "cells": [
  {
   "cell_type": "code",
   "execution_count": 2,
   "metadata": {},
   "outputs": [],
   "source": [
    "import numpy as np\n",
    "import matplotlib.pyplot as plt\n",
    "import pandas as pd\n",
    "plt.rcParams.update({'font.size': 14})\n",
    "\n",
    "def calc_mse(y, y_pred):\n",
    "    err = np.mean((y - y_pred)**2)\n",
    "    return err\n",
    "\n",
    "def calc_mae(y, y_pred):\n",
    "    err = np.mean(np.abs(y - y_pred))\n",
    "    return err\n",
    "\n",
    "X = np.array([[1, 1, 1, 1, 1, 1, 1, 1, 1, 1],   # для умножения на intercept\n",
    "              [1, 1, 2, 1, 3, 0, 5, 10, 1, 2]]) # стаж\n",
    "X.shape\n",
    "\n",
    "# средний балл ЕГЭ (целевая переменная)\n",
    "y = [45, 55, 50, 59, 65, 35, 75, 80, 50, 60]"
   ]
  },
  {
   "cell_type": "markdown",
   "metadata": {},
   "source": [
    "**1. Подберите скорость обучения (alpha) и количество итераций:**"
   ]
  },
  {
   "cell_type": "code",
   "execution_count": 3,
   "metadata": {},
   "outputs": [],
   "source": [
    "res = pd.DataFrame(columns=['alpha', 'iteration', 'error'])\n",
    "\n",
    "n = X.shape[1]\n",
    "\n",
    "alpha_range = np.arange(1e-3, 1e-1, 1e-3)\n",
    "\n",
    "# итератор по альфа\n",
    "for alpha in alpha_range:\n",
    "\n",
    "    w = np.array([1, 0.5])\n",
    "    err_prev = np.inf\n",
    "    err = 0\n",
    "    iteration = 0\n",
    "    \n",
    "    # итератор\n",
    "    while np.abs(err_prev - err) >= 1e-4:\n",
    "        \n",
    "        y_pred_prev = np.dot(w, X)\n",
    "        err_prev = calc_mse(y, y_pred_prev)\n",
    "        \n",
    "        for j in range(w.shape[0]):\n",
    "            w[j] -= alpha * (1/n * 2 * np.sum(X[j] * (y_pred_prev - y)))\n",
    "        \n",
    "        y_pred = np.dot(w, X)\n",
    "        err =  calc_mse(y, y_pred)\n",
    "        iteration+=1\n",
    "        \n",
    "        if err > err_prev:\n",
    "            break\n",
    "        \n",
    "    res = res.append({'alpha': alpha, 'iteration': iteration, 'error': err_prev}, ignore_index=True)\n",
    "    \n",
    "    \n",
    "#print(res)"
   ]
  },
  {
   "cell_type": "code",
   "execution_count": 4,
   "metadata": {},
   "outputs": [
    {
     "data": {
      "image/png": "[encoded data removed]",
      "text/plain": [
       "<Figure size 432x288 with 2 Axes>"
      ]
     },
     "metadata": {
      "needs_background": "light"
     },
     "output_type": "display_data"
    }
   ],
   "source": [
    "import matplotlib\n",
    "import matplotlib.pyplot as plt\n",
    "\n",
    "fig, ax1 = plt.subplots()\n",
    "ax2 = ax1.twinx()\n",
    "ax1.plot(res['alpha'], res['iteration'], 'g-')\n",
    "ax2.plot(res['alpha'], res['error'], 'r--')\n",
    "ax1.set_xlabel('Alpha')\n",
    "ax1.set_ylabel('Iteration', color=\"g\")\n",
    "ax2.set_ylabel('Error', color='r')\n",
    "plt.show()"
   ]
  },
  {
   "cell_type": "code",
   "execution_count": 5,
   "metadata": {},
   "outputs": [
    {
     "name": "stdout",
     "output_type": "stream",
     "text": [
      "    alpha  iteration      error\n",
      "59  0.060      111.0  45.938232\n",
      "60  0.061      109.0  45.938245\n",
      "61  0.062      107.0  45.938265\n",
      "62  0.063      106.0  45.938193\n",
      "63  0.064      109.0  45.938206\n"
     ]
    }
   ],
   "source": [
    "# print the best params\n",
    "print(res.loc[(res['alpha']>0.06) & (res['error'] <= res['error'].quantile(0.05)), :])\n"
   ]
  },
  {
   "cell_type": "code",
   "execution_count": 6,
   "metadata": {},
   "outputs": [
    {
     "name": "stdout",
     "output_type": "stream",
     "text": [
      "0 [ 7.9426 21.92  ] 3173.15\n",
      "50 [45.84949979  4.22174419] 47.18727366698796\n",
      "100 [47.18513502  3.91968328] 45.938864866858154\n"
     ]
    }
   ],
   "source": [
    "# the best params\n",
    "iterations = 106\n",
    "alpha = 0.063\n",
    "\n",
    "w = np.array([1, 0.5])\n",
    "\n",
    "for i in range(iterations):\n",
    "    y_pred = np.dot(w, X)\n",
    "    err = calc_mse(y, y_pred)\n",
    "    for j in range(w.shape[0]):\n",
    "        w[j] -= alpha * (1/n * 2 * np.sum(X[j] * (y_pred - y)))\n",
    "    \n",
    "    if i % 50 == 0:\n",
    "        print(i, w, err)"
   ]
  },
  {
   "cell_type": "markdown",
   "metadata": {},
   "source": [
    "___\n",
    "**2. В этом коде мы избавляемся от итераций по весам, но тут есть ошибка, исправьте ее:**\n",
    "\n",
    "axis = 1"
   ]
  },
  {
   "cell_type": "code",
   "execution_count": 7,
   "metadata": {},
   "outputs": [
    {
     "name": "stdout",
     "output_type": "stream",
     "text": [
      "0 [ 7.9426 21.92  ] 3173.15\n",
      "100 [47.18513502  3.91968328] 45.938864866858154\n",
      "200 [47.23208912  3.91072422] 45.9375000017779\n",
      "300 [47.2321428  3.9107143] 45.93750000000001\n",
      "400 [47.23214286  3.91071429] 45.93750000000002\n",
      "500 [47.23214286  3.91071429] 45.93749999999999\n",
      "600 [47.23214286  3.91071429] 45.937500000000014\n",
      "700 [47.23214286  3.91071429] 45.937500000000014\n",
      "800 [47.23214286  3.91071429] 45.937500000000014\n",
      "900 [47.23214286  3.91071429] 45.937500000000014\n"
     ]
    }
   ],
   "source": [
    "w = np.array([1, 0.5])\n",
    "\n",
    "for i in range(1000):\n",
    "    y_pred = np.dot(w, X)\n",
    "    err = calc_mse(y, y_pred)\n",
    "    #for j in range(w.shape[0]):\n",
    "    #    w[j] -= alpha * (1/n * 2 * np.sum(X[j] * (y_pred - y)))\n",
    "    w -= (alpha * (1/n * 2 * np.sum(X * (y_pred - y), axis=1)))\n",
    "    if i % 100 == 0:\n",
    "        print(i, w, err)"
   ]
  },
  {
   "cell_type": "markdown",
   "metadata": {},
   "source": [
    "___\n",
    "**3. Вместо того, чтобы задавать количество итераций, задайте условие остановки алгоритма - когда ошибка за итерацию начинает изменяться ниже определенного порога**"
   ]
  },
  {
   "cell_type": "code",
   "execution_count": 8,
   "metadata": {},
   "outputs": [
    {
     "name": "stdout",
     "output_type": "stream",
     "text": [
      "999 [ 7.9426 21.92  ] 3173.15\n",
      "999 [6.9932404  1.66137224] 2645.4891731600005\n",
      "999 [12.80022656 18.98152631] 2209.6335365645687\n",
      "999 [12.20145     2.53715629] 1849.215158179052\n",
      "999 [17.0652949  16.54000856] 1550.8389810855444\n",
      "999 [16.72896094  3.1898182 ] 1303.5354938940964\n",
      "999 [20.80852741 14.50882104] 1098.3151452194738\n",
      "999 [20.66596319  3.66892028] 927.8054612618665\n",
      "999 [24.09251354 12.81680499] 785.9554054728627\n",
      "999 [24.09047152  4.01370309] 667.7944240340189\n",
      "999 [26.97258298 11.40545642] 569.2359780418406\n",
      "999 [27.07001     4.25516061] 486.9172763420074\n",
      "999 [29.49759812 10.22663188] 418.06847577051485\n",
      "999 [29.66305616  4.41770673] 360.4058761534484\n",
      "999 [31.71067036  9.24067623] 312.0446609395532\n",
      "999 [31.92028036  4.52051263] 271.42756551182566\n",
      "999 [33.6498051   8.41489375] 237.26653031348488\n"
     ]
    }
   ],
   "source": [
    "# the best params\n",
    "iterations = 106\n",
    "alpha = 0.063\n",
    "\n",
    "w = np.array([1, 0.5])\n",
    "\n",
    "while True:\n",
    "    y_pred = np.dot(w, X)\n",
    "    err = calc_mse(y, y_pred)\n",
    "    \n",
    "    for j in range(w.shape[0]):\n",
    "        w[j] -= alpha * (1/n * 2 * np.sum(X[j] * (y_pred - y)))\n",
    "    \n",
    "    print(i, w, err)\n",
    "        \n",
    "    if(err < 250):\n",
    "        break\n",
    "    "
   ]
  },
  {
   "cell_type": "code",
   "execution_count": null,
   "metadata": {},
   "outputs": [],
   "source": []
  }
 ],
 "metadata": {
  "kernelspec": {
   "display_name": "Python 3",
   "language": "python",
   "name": "python3"
  },
  "language_info": {
   "codemirror_mode": {
    "name": "ipython",
    "version": 3
   },
   "file_extension": ".py",
   "mimetype": "text/x-python",
   "name": "python",
   "nbconvert_exporter": "python",
   "pygments_lexer": "ipython3",
   "version": "3.8.3"
  }
 },
 "nbformat": 4,
 "nbformat_minor": 4
}
