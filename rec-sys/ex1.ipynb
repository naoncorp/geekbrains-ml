{
 "cells": [
  {
   "cell_type": "markdown",
   "metadata": {},
   "source": [
    "# Домашнее задание\n",
    "1. Приведите еще примеры метрик для оценки рекомендаций/ранжирования (можно взять из интернета, или ваши знания)\n",
    "\n",
    "Каскадные метрики:\n",
    "\n",
    "\n",
    "- Expected reciprocal rank (ERR) — метрика качества ранжирования, основанная на каскадной модели.\n",
    "- PFound — метрика качества ранжирования, использующая похожую на каскадную модель\n",
    "\n",
    "\n",
    "2. Доделать все функции, где стоит комментарий \"сделать дома\""
   ]
  },
  {
   "cell_type": "markdown",
   "metadata": {},
   "source": [
    "## 1. hit rate at K\n",
    "\n",
    "Hit rate = был ли хотя бы 1 релевантный товар среди рекомендованных\n",
    "\n",
    "- Иногда применяется, когда продаются достаточно дорогие товары (например, бытовая техника) \n",
    "\n",
    "----\n",
    "Hit rate = (был ли хотя бы 1 релевантный товар среди рекомендованных)   \n",
    "\n",
    "Hit rate@k = (был ли хотя бы 1 релевантный товар среди топ-k рекомендованных)"
   ]
  },
  {
   "cell_type": "code",
   "execution_count": 11,
   "metadata": {},
   "outputs": [],
   "source": [
    "import pandas as pd\n",
    "import numpy as np\n",
    "\n",
    "recommended_list = [27, 156, 1134, 991, 143, 1543, 3345, 533, 11, 43] #id товаров\n",
    "prices_recommended = [400, 60, 40, 40 , 90, 80, 70, 70, 90, 120]\n",
    "\n",
    "bought_list = [521, 32, 143, 991]\n",
    "prices_bought = [101,110,90,150]"
   ]
  },
  {
   "cell_type": "code",
   "execution_count": 12,
   "metadata": {},
   "outputs": [
    {
     "name": "stdout",
     "output_type": "stream",
     "text": [
      "hit_rate = 1\n",
      "\n",
      "hit_rate_at_k = 1\n",
      "\n"
     ]
    }
   ],
   "source": [
    "def hit_rate(recommended_list, bought_list):\n",
    "    bought_list = np.array(bought_list)\n",
    "    recommended_list = np.array(recommended_list)\n",
    "    \n",
    "    flags = np.isin(bought_list, recommended_list)\n",
    "    \n",
    "    return (flags.sum() > 0) * 1\n",
    "\n",
    "def hit_rate_at_k(recommended_list, bought_list, k=5):\n",
    "    bought_list = np.array(bought_list)\n",
    "    recommended_list = np.array(recommended_list[:k])\n",
    "    \n",
    "    flags = np.isin(bought_list, recommended_list)\n",
    "    \n",
    "    return (flags.sum() > 0) * 1\n",
    "\n",
    "print(f\"hit_rate = {hit_rate(recommended_list, bought_list)}\\n\")\n",
    "print(f\"hit_rate_at_k = {hit_rate_at_k(recommended_list, bought_list, 4)}\\n\")"
   ]
  },
  {
   "cell_type": "markdown",
   "metadata": {},
   "source": [
    "## 2. Precision at k\n",
    "\n",
    "*Precision* - доля релевантных товаров среди рекомендованных = Какой % рекомендованных товаров  юзер купил\n",
    "\n",
    "- Пожалуй, самая приближенная к бизнес-метрикам и самая популярная метрика\n",
    "\n",
    "---\n",
    "\n",
    "Precision= (# of recommended items that are relevant) / (# of recommended items)  \n",
    "\n",
    "Precision@k = (# of recommended items @k that are relevant) / (# of recommended items @k)\n",
    "\n",
    "Money Precision@k = (revenue of recommended items @k that are relevant) / (revenue of recommended items @k)  \n",
    "\n",
    "**Note:** Обычно k в precision@k достаточно невелико (5-20) и определяется из бизнес-логики. Например, 5 товаров в e-mail рассылке, 20 ответов на первой странице google и т.д"
   ]
  },
  {
   "cell_type": "code",
   "execution_count": 13,
   "metadata": {},
   "outputs": [
    {
     "name": "stdout",
     "output_type": "stream",
     "text": [
      "precision = 0.2\n",
      "\n",
      "precision_at_k = 0.4\n",
      "\n",
      "money_precision_at_k = 0.20634920634920634\n",
      "\n"
     ]
    }
   ],
   "source": [
    "\n",
    "\n",
    "def precision(recommended_list, bought_list):\n",
    "    \n",
    "    bought_list = np.array(bought_list)\n",
    "    recommended_list = np.array(recommended_list)\n",
    "    \n",
    "    flags = np.isin(bought_list, recommended_list)\n",
    "    return flags.sum() / len(recommended_list)\n",
    "\n",
    "\n",
    "def precision_at_k(recommended_list, bought_list, k=5):\n",
    "    \n",
    "    bought_list = np.array(bought_list)\n",
    "    recommended_list = np.array(recommended_list)[:k]\n",
    "    \n",
    "    flags = np.isin(bought_list, recommended_list)\n",
    "    return flags.sum() / len(recommended_list)\n",
    "\n",
    "def money_precision_at_k_(recommended_list, bought_list, prices_recommended, k=5):\n",
    "    \n",
    "    recommend_list = np.array(recommended_list)[:k]\n",
    "    prices_recommended = np.array(prices_recommended)[:k]\n",
    "    \n",
    "    flags = np.isin(recommend_list, bought_list)\n",
    "    \n",
    "    precision = np.dot(flags, prices_recommended).sum() / prices_recommended.sum()\n",
    "    \n",
    "    return precision\n",
    "\n",
    "print(f\"precision = {precision(recommended_list, bought_list)}\\n\")\n",
    "print(f\"precision_at_k = {precision_at_k(recommended_list, bought_list, 5)}\\n\")\n",
    "print(f\"money_precision_at_k = {money_precision_at_k_(recommended_list, bought_list, prices_recommended, 5)}\\n\")"
   ]
  },
  {
   "cell_type": "markdown",
   "metadata": {},
   "source": [
    "## 3. Recall\n",
    "\n",
    "*Recall* - доля рекомендованных товаров среди релевантных = Какой % купленных товаров был среди рекомендованных\n",
    "\n",
    "- Обычно используется для моделей пре-фильтрации товаров (убрать те товары, которые точно не будем рекомендовать)\n",
    "\n",
    "---\n",
    "\n",
    "Recall= (# of recommended items that are relevant) / (# of relevant items)  \n",
    "\n",
    "Recall@k = (# of recommended items @k that are relevant) / (# of relevant items)\n",
    "\n",
    "Money Recall@k = (revenue of recommended items @k that are relevant) / (revenue of relevant items)  \n",
    "\n",
    "    \n",
    "  \n",
    "**Note:** в recall@k число k обычно достаточно большое (50-200), больше чем покупок у среднестатистического юзера"
   ]
  },
  {
   "cell_type": "code",
   "execution_count": 14,
   "metadata": {},
   "outputs": [
    {
     "name": "stdout",
     "output_type": "stream",
     "text": [
      "recall = 0.5\n",
      "\n",
      "recall_at_k = 0.5\n",
      "\n",
      "money_recall_at_k = 0.28824833702882485\n",
      "\n"
     ]
    }
   ],
   "source": [
    "def recall(recommended_list, bought_list):\n",
    "    \n",
    "    bought_list = np.array(bought_list)\n",
    "    recommended_list = np.array(recommended_list)\n",
    "    \n",
    "    flags = np.isin(bought_list, recommended_list)\n",
    "    return flags.sum() / len(bought_list)\n",
    "    \n",
    "\n",
    "def recall_at_k(recommended_list, bought_list, k=5):\n",
    "    bought_list = np.array(bought_list)\n",
    "    recommended_list = np.array(recommended_list)[:k]\n",
    "    \n",
    "    flags = np.isin(bought_list, recommended_list)\n",
    "    return flags.sum() / len(bought_list)\n",
    "\n",
    "\n",
    "def money_recall_at_k(recommended_list, bought_list, prices_recommended, prices_bought, k=5):\n",
    "    recommend_list = np.array(recommended_list)[:k]\n",
    "    prices_recommended = np.array(prices_recommended)[:k]\n",
    "    prices_bought = np.array(prices_bought)\n",
    "    \n",
    "    flags = np.isin(recommend_list, bought_list)\n",
    "    \n",
    "    recall = np.dot(flags, prices_recommended).sum() / prices_bought.sum()\n",
    "    \n",
    "    return recall\n",
    "\n",
    "print(f\"recall = {recall(recommended_list, bought_list)}\\n\")\n",
    "print(f\"recall_at_k = {recall_at_k(recommended_list, bought_list, 5)}\\n\")\n",
    "print(f\"money_recall_at_k = {money_recall_at_k(recommended_list, bought_list, prices_recommended, prices_bought, 5)}\\n\")"
   ]
  },
  {
   "cell_type": "markdown",
   "metadata": {},
   "source": [
    "## 4 MAP@k\n",
    "\n",
    "MAP@k (Mean Average Precision@k)  \n",
    "Среднее AP@k по всем юзерам\n",
    "- Показывает средневзвешенную точность рекомендаций\n",
    "\n",
    "$$MAP@k = \\frac{1}{|U|} \\sum_u{AP_k}$$\n",
    "  \n",
    "|U| - кол-во юзеров"
   ]
  },
  {
   "cell_type": "code",
   "execution_count": 15,
   "metadata": {},
   "outputs": [
    {
     "name": "stdout",
     "output_type": "stream",
     "text": [
      "0.3333333333333333\n"
     ]
    }
   ],
   "source": [
    "# теперь список из 3 пользователей\n",
    "recommended_list_3_users = [[143, 156, 1134, 991, 27, 1543, 3345, 533, 11, 43], \n",
    "                    [1134, 533, 14, 4, 15, 1543, 1, 99, 27, 3345],\n",
    "                    [991, 3345, 27, 533, 43, 143, 1543, 156, 1134, 11]\n",
    "                    ]\n",
    "\n",
    "bought_list_3_users = [[521, 32, 143],  # юзер 1\n",
    "                       [143, 156, 991, 43, 11], # юзер 2\n",
    "                       [1,2]] # юзер 3\n",
    "\n",
    "def ap_k(recommended_list, bought_list, k=5):\n",
    "    \n",
    "    bought_list = np.array(bought_list)\n",
    "    recommended_list = np.array(recommended_list)[:k]\n",
    "    \n",
    "    relevant_indexes = np.nonzero(np.isin(recommended_list, bought_list))[0]\n",
    "    if len(relevant_indexes) == 0:\n",
    "        return 0\n",
    "    \n",
    "    amount_relevant = len(relevant_indexes)\n",
    "            \n",
    "    sum_ = sum([precision_at_k(recommended_list, bought_list, k=index_relevant+1) for index_relevant in relevant_indexes])\n",
    "    return sum_/amount_relevant\n",
    "\n",
    "\n",
    "def map_k(recommended_list_users, bought_list_users, k=5):\n",
    "    user_qty = len(recommended_list_users)\n",
    "    ap_k_sum = sum([ap_k(recommended_list_users[i], bought_list_users[i], k) for i in range(0,user_qty)])\n",
    "    return (1/user_qty)*ap_k_sum\n",
    "\n",
    "print(map_k(recommended_list_3_users, bought_list_3_users, 5))\n",
    "    "
   ]
  },
  {
   "cell_type": "markdown",
   "metadata": {},
   "source": [
    "## 5 Normalized discounted cumulative gain ( NDCG@k)\n",
    "\n",
    "\n",
    "$$DCG = \\frac{1}{|r|} \\sum_u{\\frac{[bought fact]}{discount(i)}}$$  \n",
    "\n",
    "$discount(i) = i$ if $i <= 2$,   \n",
    "$discount(i) = log_2(i)$ if $i > 2$\n",
    "\n",
    "\n",
    "(!) Считаем для первых k рекоммендаций   \n",
    "(!) - существуют вариации с другими $discount(i)$  \n",
    "i - ранк рекомендованного товара  \n",
    "|r| - кол-во рекомендованных товаров \n",
    "\n",
    "$$NDCG = \\frac{DCG}{ideal DCG}$$\n",
    "\n",
    "$DCG@5 = \\frac{1}{5}*(1 / 1 + 0 / 2 + 0 / log(3) + 1 / log(4) + 0 / log(5))$  \n",
    "$ideal DCG@5 = \\frac{1}{5}*(1 / 1 + 1 / 2 + 1 / log(3) + 1 / log(4) + 1 / log(5))$  \n",
    "\n",
    "$NDCG = \\frac{DCG}{ideal DCG}$"
   ]
  },
  {
   "cell_type": "code",
   "execution_count": 16,
   "metadata": {},
   "outputs": [
    {
     "name": "stdout",
     "output_type": "stream",
     "text": [
      "1.0\n"
     ]
    }
   ],
   "source": [
    "def dcg_at_k(r, k, method=0):\n",
    "    \n",
    "    r = np.asfarray(r)[:k]\n",
    "    if r.size:\n",
    "        if method == 0:\n",
    "            return r[0] + np.sum(r[1:] / np.log2(np.arange(2, r.size + 1)))\n",
    "        elif method == 1:\n",
    "            return np.sum(r / np.log2(np.arange(2, r.size + 2)))\n",
    "        else:\n",
    "            raise ValueError('method must be 0 or 1.')\n",
    "    return 0.\n",
    "\n",
    "\n",
    "def ndcg_at_k(recommended_list, bought_list, k=5, method=0):\n",
    "    \n",
    "    bought_list = np.array(bought_list)\n",
    "    recommended_list = np.array(recommended_list)[:k]\n",
    "    \n",
    "    r = np.nonzero(np.isin(recommended_list, bought_list))[0]\n",
    "    if len(r) == 0:\n",
    "        return 0\n",
    "    \n",
    "    dcg_max = dcg_at_k(sorted(r, reverse=True), k, method)\n",
    "    if not dcg_max:\n",
    "        return 0.\n",
    "    return dcg_at_k(r, k, method) / dcg_max\n",
    "\n",
    "print(ndcg_at_k(recommended_list, bought_list))"
   ]
  },
  {
   "cell_type": "markdown",
   "metadata": {},
   "source": [
    "## Mean Reciprocal Rank ( MRR@k )\n",
    "\n",
    "\n",
    "- Считаем для первых k рекоммендаций\n",
    "- Найти ранк первого релевантного предсказания $k_u$\n",
    "- Посчитать reciprocal rank = $\\frac{1}{k_u}$\n",
    "\n",
    "$$MRR = mean(\\frac{1}{k_u})$$"
   ]
  },
  {
   "cell_type": "code",
   "execution_count": 17,
   "metadata": {},
   "outputs": [
    {
     "name": "stdout",
     "output_type": "stream",
     "text": [
      "0.3333333333333333\n"
     ]
    }
   ],
   "source": [
    "def mean_reciprocal_rank_at_k(recommended_list_users, bought_list_users, k=5): \n",
    "    rs = []\n",
    "    users_qty = len(recommended_list_users)\n",
    "    \n",
    "    i = 0\n",
    "    while i < users_qty:\n",
    "        bought_list = np.array(bought_list_users[i])\n",
    "        recommended_list = np.array(recommended_list_users[i])[:k]\n",
    "        \n",
    "        rs.append(np.nonzero(np.isin(recommended_list, bought_list))[0])\n",
    "        i = i+1\n",
    "        \n",
    "    return np.mean([1. / (r[0] + 1) if r.size else 0. for r in rs])\n",
    "\n",
    "print(mean_reciprocal_rank_at_k(recommended_list_3_users, bought_list_3_users))"
   ]
  },
  {
   "cell_type": "code",
   "execution_count": null,
   "metadata": {},
   "outputs": [],
   "source": []
  },
  {
   "cell_type": "code",
   "execution_count": null,
   "metadata": {},
   "outputs": [],
   "source": []
  }
 ],
 "metadata": {
  "kernelspec": {
   "display_name": "Python 3",
   "language": "python",
   "name": "python3"
  },
  "language_info": {
   "codemirror_mode": {
    "name": "ipython",
    "version": 3
   },
   "file_extension": ".py",
   "mimetype": "text/x-python",
   "name": "python",
   "nbconvert_exporter": "python",
   "pygments_lexer": "ipython3",
   "version": "3.8.3"
  }
 },
 "nbformat": 4,
 "nbformat_minor": 4
}
